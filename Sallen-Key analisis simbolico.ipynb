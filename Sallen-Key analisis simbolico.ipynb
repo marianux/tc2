{
 "cells": [
  {
   "cell_type": "markdown",
   "metadata": {},
   "source": [
    "[//]: # \"Para temas claros usar logo_utn.svg\"\n",
    "<img src=\"./logo_utn_dark.png\" align=\"right\" width=\"250\" /> \n",
    "\n",
    "# Análisis simbólico de la transferencia en la topología Sallen-Key\n",
    "\n",
    "#### Por Mariano Llamedo Soria"
   ]
  },
  {
   "cell_type": "markdown",
   "metadata": {},
   "source": [
    "## Resumen\n",
    "\n",
    "En este documento se analizará un filtro pasabajos Sallen-Key, obteniendo su función transferencia y analizando sus parámetros críticos mediantes el estudio de la sensibilidad. Luego se profundiza este análisis mediante una simulacion numérica y circuital de tipo Montecarlo, para finalmente extraer algunas conclusiones.\n",
    "\n",
    "\n",
    "<a id='indice'></a>\n",
    "\n",
    "\n",
    "## Índice\n",
    "\n",
    "El siguiente índice permitirá navegar por las secciones del documento con mayor facilidad.\n",
    "\n",
    "\n",
    "1. [Introducción](#intro)\n",
    "\n",
    "\n",
    "2. Simulación simbólica:\n",
    "\n",
    "    a. [Análisis teórico de la función transferencia](#1.a).\n",
    "\n",
    "    b. [Asumiendo realimentación negativa (RN) con opamp ideal](#1.b).\n",
    "    \n",
    "    c. [Sin asumir RN con opamp ideal](#1.c).\n",
    "    \n",
    "    d. [Sin asumir RN y con opamp NO ideal](#1.d).\n",
    "    \n",
    "    e. [Análisis de sensibilidad](#1.e).\n",
    " \n",
    "\n"
   ]
  },
  {
   "cell_type": "markdown",
   "metadata": {},
   "source": [
    "<a id='intro'></a>\n",
    "\n",
    "### I) Introducción\n",
    "\n",
    "\n",
    "En el siguiente documento se analizará la dispersión de parámetros:\n",
    "\n",
    " * Factor de selectividad ($Q$)\n",
    " * Frecuencia de corte o resonancia ($\\omega_0$)\n",
    " * y la ganancia ($K$)\n",
    "\n",
    "correspondiente a una topología Sallen-Key en su configuración pasabajo, mediante la siguiente red:\n",
    "\n",
    "\n",
    "<img src=\"./sallenkey.png\" align=\"center\" width=\"700\" style=\"border:10px solid white\" /> \n",
    "\n",
    "Este circuito implementa la siguiente transferencia de tensión:\n",
    "\n",
    "$$ T(s) =\\frac{V_o}{V_i} = \\frac{ K·\\omega_0^2}{s^2 + s · \\omega_0/Q + \\omega_0^2} $$\n",
    "\n",
    "En las siguientes secciones se describirá la relación entre los parámetros y los elementos circuitales.\n",
    "\n",
    "Esta topología fue propuesta originalmente en 1955 por R. P. Sallen and E. L. Key del [laboratorio Lincoln](https://en.wikipedia.org/wiki/MIT_Lincoln_Laboratory), en el MIT [[wiki]](https://en.wikipedia.org/wiki/Sallen%E2%80%93Key_topology). Es uno de los primeros filtros activos publicados, y posiblemente uno de los más populares. Una de sus principales ventajas al momento de su publicación fue la posibilidad de diseñar filtros de orden superior de forma modular. Es decir que cada etapa podía diseñarse por separado debido al uso de seguidores de tensión, o lo que se consideró años después, la topología de filtos *fuente de tensión controlada por tensión* (VCVS por sus siglas en inglés). Otra ventaja importante es que necesita un solo dispositivo activo, en nuestro caso un *opamp*, aunque la publicación original se propuso un amplificador valvular en configuración de cátodo común. La idea original fue que el dispositivo activo funcione aproximadamente como un *buffer*, proveyendo separación de las secciones adyacentes (casi) sin atenuación de la señal. En el caso de la configuración actual, el *opamp* también permite obtener ganancia, como veremos más adelante. Ciertamente esta topología tiene varias desventajas, posiblemente la más notoria es su dificultad de implementar factores de selectividad (Q) elevados, como se analizará en este documento.\n",
    "\n",
    "<a id='indice'></a>\n",
    "\n",
    "\n"
   ]
  },
  {
   "cell_type": "markdown",
   "metadata": {},
   "source": [
    "<a id='1.a'></a>\n",
    "\n",
    "### 1.a) Análisis teórico de la función transferencia\n",
    "\n",
    "\n",
    "Se comienza analizando las ecuaciones que gobiernan el comportamiento de la red propuesta:\n",
    "\n",
    "\n",
    " 1. Nodo $V_b$\n",
    " \n",
    "  $ V_b . (G_1 + G_2 + s.C) - V_i . G_1 - V_a . G_2  - V_o . s.C = 0$\n",
    "\n",
    "\n",
    " 2. Nodo $V_a$ ó $V_+$\n",
    " \n",
    "  $ -V_b . G_2 + V_a . (G_2 + s.C) = 0$\n",
    "\n",
    "\n",
    " 3. Nodo $V_-$\n",
    " \n",
    "  $ V_- . (G_a + G_b) - V_o . G_b = 0$\n",
    "\n",
    "\n",
    "Si consideramos que la red está **realimentada negativamente**, podemos agregar la siguiente ecuación:\n",
    "\n",
    "\n",
    " 4. $V_- = V_+ = V_a$\n",
    " \n",
    "  \n",
    "y proceder a resolver el sistema de ecuaciones para $\\frac{V_o}{V_i}$, lo cual concluiría el análisis de la transferencia del filtro. \n",
    "\n",
    "Sin embargo, a modo de ejemplo, demostraremos las posibilidades de sympy para el manejo de expresiones algebraicas analizando la red como si no supiéramos de qué clase de realimentación se trata. Para tal fin debemos contemplar la siguiente ecuación que describe el funcionamiento del *opamp*.\n",
    "\n",
    "\n",
    " 4. (bis) $ (V_+ - V_-). A(s) = (V_a - V_-). A(s) = V_o$\n",
    " \n",
    "Luego si asumimos $A(s) \\to \\infty$ para una salida $V_o$ finita, entonces 4 (bis) se convierte en la ecuación 4. Finalmente, el comportamiento del *opamp* también puede hacerse tan complejo como se desee, por caso usando el modelo de integrador\n",
    "\n",
    "\n",
    " 5. $ A(s) = \\frac{\\omega_t}{s}$\n",
    "\n",
    "\n",
    "Dependiendo la complejidad del análisis podemos optar por cualquiera de los tres caminos sugeridos más arriba. A modo de ejemplo, resolveremos los tres para presentar las posibilidades de sympy.\n",
    "\n",
    "\n",
    "[Volver al índice](#indice)"
   ]
  },
  {
   "cell_type": "code",
   "execution_count": 1,
   "metadata": {
    "code_folding": [],
    "scrolled": true
   },
   "outputs": [],
   "source": [
    "# Inicialización e importación de módulos\n",
    "\n",
    "# Módulos para Jupyter\n",
    "import warnings\n",
    "warnings.filterwarnings('ignore')\n",
    "\n",
    "# Módulos externos\n",
    "import matplotlib as mpl\n",
    "import matplotlib.pyplot as plt\n",
    "import numpy as np\n",
    "from scipy.signal import TransferFunction\n",
    "\n",
    "fig_sz_x = 8\n",
    "fig_sz_y = 6\n",
    "fig_dpi = 150 # dpi\n",
    "\n",
    "mpl.rcParams['figure.figsize'] = (fig_sz_x, fig_sz_y)\n",
    "mpl.rcParams['figure.dpi'] = fig_dpi\n",
    "\n",
    "plt.figure(1)\n",
    "plt.plot(np.random.rand(10))\n",
    "plt.close(1)\n",
    "\n",
    "# módulo de análisis simbólico\n",
    "import sympy as sp\n",
    "# variable de Laplace\n",
    "from sympy.abc import s\n",
    "from IPython.display import display, Math, Markdown\n",
    "\n",
    "# Ahora importamos las funciones de PyTC2\n",
    "from pytc2.sistemas_lineales import simplify_n_monic, parametrize_sos\n",
    "from pytc2.general import print_subtitle\n"
   ]
  },
  {
   "cell_type": "markdown",
   "metadata": {},
   "source": [
    "<a id='1.b'></a>\n",
    "\n",
    "### 1.b) Alternativa 1: Red negativamente realimentada \n",
    "\n",
    "Procedemos a ingresar las ecuaciones 1-4.\n",
    "\n",
    "[Volver al índice](#indice)"
   ]
  },
  {
   "cell_type": "code",
   "execution_count": 2,
   "metadata": {},
   "outputs": [
    {
     "data": {
      "text/markdown": [
       "#### Transferencia obtenida"
      ],
      "text/plain": [
       "<IPython.core.display.Markdown object>"
      ]
     },
     "metadata": {},
     "output_type": "display_data"
    },
    {
     "data": {
      "text/latex": [
       "$\\displaystyle  \\frac{V_o}{V_i} = \\frac{Ga + Gb}{Gb} \\frac{G_{1} G_{2}}{C^{2} \\left(s^{2} + \\frac{s \\left(G_{1} Gb - G_{2} Ga + G_{2} Gb\\right)}{C Gb} + \\frac{G_{1} G_{2}}{C^{2}}\\right)}$"
      ],
      "text/plain": [
       "<IPython.core.display.Math object>"
      ]
     },
     "metadata": {},
     "output_type": "display_data"
    },
    {
     "data": {
      "text/markdown": [
       "#### Parámetros"
      ],
      "text/plain": [
       "<IPython.core.display.Markdown object>"
      ]
     },
     "metadata": {},
     "output_type": "display_data"
    },
    {
     "data": {
      "text/latex": [
       "$\\displaystyle  k = \\frac{Ga + Gb}{Gb}$"
      ],
      "text/plain": [
       "<IPython.core.display.Math object>"
      ]
     },
     "metadata": {},
     "output_type": "display_data"
    },
    {
     "data": {
      "text/latex": [
       "$\\displaystyle  \\omega_0 = \\sqrt{\\frac{G_{1} G_{2}}{C^{2}}}$"
      ],
      "text/plain": [
       "<IPython.core.display.Math object>"
      ]
     },
     "metadata": {},
     "output_type": "display_data"
    },
    {
     "data": {
      "text/latex": [
       "$\\displaystyle  Q = \\frac{C Gb \\sqrt{\\frac{G_{1} G_{2}}{C^{2}}}}{G_{1} Gb - G_{2} Ga + G_{2} Gb}$"
      ],
      "text/plain": [
       "<IPython.core.display.Math object>"
      ]
     },
     "metadata": {},
     "output_type": "display_data"
    }
   ],
   "source": [
    "\n",
    "# variables simbólicas\n",
    "s = sp.symbols('s', complex=True)\n",
    "Va, Vb, Vi, Vo = sp.symbols(\"Va, Vb, Vi, Vo\")\n",
    "G1, G2, Ga, Gb, C, As, wt = sp.symbols(\"G1, G2, Ga, Gb, C, As, wt\")\n",
    "\n",
    "# Sistemas de ecuaciones del modelo ideal, negativamente realimentado\n",
    "aa = sp.solve([ \n",
    "                Vb*(G1 + G2 + s*C) - Vi * G1 - Va * G2 - Vo * s*C, \n",
    "                -Vb*G2 + Va * (G2 + s*C),\n",
    "                -Vo*Gb + Va * (Ga + Gb)\n",
    "                ], \n",
    "                [Vo, Vi, Va, Vb])\n",
    "T1 = aa[Vo]/aa[Vi]\n",
    "\n",
    "num, den = sp.fraction(sp.simplify(sp.expand(T1)))\n",
    "num = sp.Poly(num,s)\n",
    "den = sp.Poly(den,s)\n",
    "num1, den1, w_on, Q_n, w_od, Q_d, k1 = parametrize_sos(num, den)\n",
    "\n",
    "print_subtitle('Transferencia obtenida')\n",
    "\n",
    "display(Math( r' \\frac{V_o}{V_i} = ' + sp.latex(sp.Mul(k1,num1/den1, evaluate=False)) ))\n",
    "\n",
    "print_subtitle('Parámetros')\n",
    "\n",
    "display(Math( r' k = ' + sp.latex(k1) ))\n",
    "\n",
    "display(Math( r' \\omega_0 = ' + sp.latex(w_od) ))\n",
    "\n",
    "display(Math( r' Q = ' + sp.latex(Q_d) ))\n"
   ]
  },
  {
   "cell_type": "markdown",
   "metadata": {},
   "source": [
    "<a id='1.c'></a>\n",
    "\n",
    "### 1.c) Alternativa 2: Sin asumir realimentación negativa (RN) \n",
    "\n",
    "Procedemos a ingresar las ecuaciones 1-3 y 4bis.\n",
    "\n",
    "[Volver al índice](#indice)"
   ]
  },
  {
   "cell_type": "code",
   "execution_count": 3,
   "metadata": {},
   "outputs": [
    {
     "data": {
      "text/markdown": [
       "#### Transferencia sin asumir RN"
      ],
      "text/plain": [
       "<IPython.core.display.Markdown object>"
      ]
     },
     "metadata": {},
     "output_type": "display_data"
    },
    {
     "data": {
      "text/latex": [
       "$\\displaystyle  \\frac{V_o}{V_i} = \\frac{Ga + Gb}{Gb} \\frac{G_{1} G_{2}}{C^{2} \\left(s^{2} + \\frac{s \\left(G_{1} Gb - G_{2} Ga + G_{2} Gb\\right)}{C Gb} + \\frac{G_{1} G_{2}}{C^{2}}\\right)}$"
      ],
      "text/plain": [
       "<IPython.core.display.Math object>"
      ]
     },
     "metadata": {},
     "output_type": "display_data"
    },
    {
     "data": {
      "text/markdown": [
       "#### Parámetros"
      ],
      "text/plain": [
       "<IPython.core.display.Markdown object>"
      ]
     },
     "metadata": {},
     "output_type": "display_data"
    },
    {
     "data": {
      "text/latex": [
       "$\\displaystyle  k = \\frac{Ga + Gb}{Gb}$"
      ],
      "text/plain": [
       "<IPython.core.display.Math object>"
      ]
     },
     "metadata": {},
     "output_type": "display_data"
    },
    {
     "data": {
      "text/latex": [
       "$\\displaystyle  \\omega_0 = \\sqrt{\\frac{G_{1} G_{2}}{C^{2}}}$"
      ],
      "text/plain": [
       "<IPython.core.display.Math object>"
      ]
     },
     "metadata": {},
     "output_type": "display_data"
    },
    {
     "data": {
      "text/latex": [
       "$\\displaystyle  Q = \\frac{C Gb \\sqrt{\\frac{G_{1} G_{2}}{C^{2}}}}{G_{1} Gb - G_{2} Ga + G_{2} Gb}$"
      ],
      "text/plain": [
       "<IPython.core.display.Math object>"
      ]
     },
     "metadata": {},
     "output_type": "display_data"
    }
   ],
   "source": [
    "\n",
    "# pata inversora del opamp\n",
    "Vinv  = sp.symbols(\"Vinv\")\n",
    "\n",
    "# Sistemas de ecuaciones del modelo ideal, negativamente realimentado\n",
    "aa = sp.solve([ \n",
    "                Vb*(G1 + G2 + s*C) - Vi * G1 - Va * G2 - Vo * s*C, \n",
    "                -Vb*G2 + Va * (G2 + s*C),\n",
    "                -Vo*Gb + Vinv * (Ga + Gb),\n",
    "                (Va - Vinv) * As - Vo\n",
    "                ], \n",
    "                [Vo, Vi, Vinv, Va, Vb])\n",
    "T2 = aa[Vo]/aa[Vi]\n",
    "\n",
    "# modelo ideal sin asumir realimentación negativa\n",
    "T2 = sp.limit(T2, As, sp.oo)\n",
    "\n",
    "num, den = sp.fraction(sp.simplify(sp.expand(T2)))\n",
    "num = sp.Poly(num,s)\n",
    "den = sp.Poly(den,s)\n",
    "num2, den2, w_on2, Q_n2, w_od2, Q_d2, k2 = parametrize_sos(num, den)\n",
    "\n",
    "print_subtitle('Transferencia sin asumir RN')\n",
    "\n",
    "display(Math( r' \\frac{V_o}{V_i} = ' + sp.latex(sp.Mul(k2,num2/den2, evaluate=False)) ))\n",
    "\n",
    "print_subtitle('Parámetros')\n",
    "\n",
    "display(Math( r' k = ' + sp.latex(k2) ))\n",
    "\n",
    "display(Math( r' \\omega_0 = ' + sp.latex(w_od2) ))\n",
    "\n",
    "display(Math( r' Q = ' + sp.latex(Q_d2) ))\n"
   ]
  },
  {
   "cell_type": "markdown",
   "metadata": {},
   "source": [
    "<a id='1.d'></a>\n",
    "\n",
    "Afortunadamente los resultados convergen, sin embargo, esto no siempre podría ser así. A modo de ejemplo se finaliza la demostración de las posibilidades de sympy extendiendo el análisis de la red considerando al opamp mediante su modelo de integrador.\n",
    "\n",
    "### 1.d) Alternativa 3: Sin asumir RN y *opamp* no ideal\n",
    "\n",
    "Procedemos a ingresar las ecuaciones 1-3, 4bis y 5.\n",
    "\n",
    "[Volver al índice](#indice)"
   ]
  },
  {
   "cell_type": "code",
   "execution_count": 4,
   "metadata": {},
   "outputs": [
    {
     "data": {
      "text/markdown": [
       "#### Transferencia opamp no ideal"
      ],
      "text/plain": [
       "<IPython.core.display.Markdown object>"
      ]
     },
     "metadata": {},
     "output_type": "display_data"
    },
    {
     "data": {
      "text/latex": [
       "$\\displaystyle  \\frac{V_o}{V_i} = \\frac{\\frac{1}{C^{2} Ga + C^{2} Gb} \\left(G_{1} G_{2} Ga wt + G_{1} G_{2} Gb wt\\right)}{\\frac{G_{1} G_{2} Gb wt}{C^{2} Ga + C^{2} Gb} + s^{3} + \\frac{s^{2} \\left(C Gb wt + G_{1} Ga + G_{1} Gb + 2 G_{2} Ga + 2 G_{2} Gb\\right)}{C Ga + C Gb} + \\frac{s \\left(C G_{1} Gb wt - C G_{2} Ga wt + C G_{2} Gb wt + G_{1} G_{2} Ga + G_{1} G_{2} Gb\\right)}{C^{2} Ga + C^{2} Gb}}$"
      ],
      "text/plain": [
       "<IPython.core.display.Math object>"
      ]
     },
     "metadata": {},
     "output_type": "display_data"
    }
   ],
   "source": [
    "\n",
    "# Sistemas de ecuaciones del modelo ideal, negativamente realimentado\n",
    "aa = sp.solve([ \n",
    "                Vb*(G1 + G2 + s*C) - Vi * G1 - Va * G2 - Vo * s*C, \n",
    "                -Vb*G2 + Va * (G2 + s*C),\n",
    "                -Vo*Gb + Vinv * (Ga + Gb),\n",
    "                (Va - Vinv) * As - Vo\n",
    "                ], \n",
    "                [Vo, Vi, Vinv, Va, Vb])\n",
    "\n",
    "T3 = aa[Vo]/aa[Vi]\n",
    "\n",
    "# modelo integrador A(s)=\\omega_t/s (sin asumir realimentación negativa)\n",
    "T3 = sp.simplify(sp.expand(T3.subs(As, wt/s)))\n",
    "\n",
    "T3 = simplify_n_monic(T3)\n",
    "\n",
    "print_subtitle('Transferencia opamp no ideal')\n",
    "\n",
    "display(Math( r' \\frac{V_o}{V_i} = ' + sp.latex(T3) ))\n"
   ]
  },
  {
   "cell_type": "markdown",
   "metadata": {},
   "source": [
    "Con esto se termina la demostración de las posibilidades de simulación simbólica de sympy.\n",
    "\n",
    "En el [siguiente documento]() se retoma el análisis de la transferencia para *opamp ideal*, como se analizó en las alternativas 1 y 2. Convendrá recordar la transferencia de tensión definida genéricamente\n",
    "\n",
    "$$ T(s) = \\frac{ K·\\omega_0^2}{s^2 + s · \\omega_0/Q + \\omega_0^2} $$\n",
    "\n",
    "siendo los parámetros para las alternativas 1 y 2\n",
    "\n",
    "$$ \\omega_0^2=\\frac{G_1 G_2}{C^2} $$\n",
    "\n",
    "$$ K=1+G_a/G_b $$\n",
    "\n",
    "$$ Q=\\frac{ \\sqrt{G_1 G_2}}{G_1 + G_2(2-K)} $$\n",
    "\n",
    "y para $R_1 = \\frac{1}{G1} = R_2 = R_a = R $ llegamos a \n",
    "\n",
    "$$ \\omega_0=\\frac{1}{RC} $$\n",
    "\n",
    "$$ Q=\\frac{ 1}{3-K} $$\n",
    "\n",
    "$$ K=1+R_b/R $$\n",
    "\n",
    "[Volver al índice](#indice)\n"
   ]
  }
 ],
 "metadata": {
  "_draft": {
   "nbviewer_url": "https://gist.github.com/ac51adac5315287242cfd3dfb27a0196"
  },
  "gist": {
   "data": {
    "description": "mariano/Docencia/TC2/scripts/digital filters/python/Filtrado digital. Aplicaciones electrocardiografía.ipynb",
    "public": true
   },
   "id": "ac51adac5315287242cfd3dfb27a0196"
  },
  "kernelspec": {
   "display_name": "Python 3 (ipykernel)",
   "language": "python",
   "name": "python3"
  },
  "language_info": {
   "codemirror_mode": {
    "name": "ipython",
    "version": 3
   },
   "file_extension": ".py",
   "mimetype": "text/x-python",
   "name": "python",
   "nbconvert_exporter": "python",
   "pygments_lexer": "ipython3",
   "version": "3.10.6"
  },
  "varInspector": {
   "cols": {
    "lenName": 16,
    "lenType": 16,
    "lenVar": 40
   },
   "kernels_config": {
    "python": {
     "delete_cmd_postfix": "",
     "delete_cmd_prefix": "del ",
     "library": "var_list.py",
     "varRefreshCmd": "print(var_dic_list())"
    },
    "r": {
     "delete_cmd_postfix": ") ",
     "delete_cmd_prefix": "rm(",
     "library": "var_list.r",
     "varRefreshCmd": "cat(var_dic_list()) "
    }
   },
   "types_to_exclude": [
    "module",
    "function",
    "builtin_function_or_method",
    "instance",
    "_Feature"
   ],
   "window_display": false
  }
 },
 "nbformat": 4,
 "nbformat_minor": 2
}
