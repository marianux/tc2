{
 "cells": [
  {
   "cell_type": "markdown",
   "metadata": {},
   "source": [
    "[//]: # \"Para temas claros usar logo_utn.svg\"\n",
    "<img src=\"./logo_utn_dark.png\" align=\"right\" width=\"250\" /> \n",
    "\n",
    "#### Teoría de Circuitos 2\n",
    "\n",
    "## Bienvenida a TC2\n",
    "\n",
    "Mariano Llamedo Soria. Profesor Titular de TC2. UTN-BA.\n"
   ]
  },
  {
   "cell_type": "markdown",
   "metadata": {},
   "source": [
    "## Primeros pasos: la preparación del entorno de trabajo\n",
    "\n",
    "Este documento resume la información que necesitarás para comenzar a cursar *Teoría de los Circuitos 2*. Comenzando por las cuestiones administrativas que podés ir resolviendo durante las primeras clases:\n",
    "\n",
    "* [Presentación de la materia y cuestiones administrativas](presentacion.ipynb). **Solo como referencia pública**. Revisar el campus virtual de cada curso si estás comenzando el ciclo lectivo, es posible que el documento esté desactualizado.\n",
    "\n",
    "* Campus virtual de los cursos:\n",
    "\n",
    "  \n",
    "   *  [R4052 Lunes noche](https://aulasvirtuales.frba.utn.edu.ar/course/view.php?id=5066)\n",
    "   *  [R4051 Martes noche](https://aulasvirtuales.frba.utn.edu.ar/course/view.php?id=23936)\n",
    "   *  [R4053 Miércoles noche](https://aulasvirtuales.frba.utn.edu.ar/course/view.php?id=6756)\n",
    "   *  [R4001 Jueves mañana](https://aulasvirtuales.frba.utn.edu.ar/course/view.php?id=5061).\n",
    "\n",
    "\n",
    "  **Se dará una contraseña de automatriculación** pero se puede acceder con clave de **invitado: invitadocircuitos2**. En el campus por lo general está toda la información más actualizada.\n",
    "\n",
    "* Formulario de métricas semanales. Revisar el campus virtual de cada curso si estás comenzando el ciclo lectivo. Requiere cuenta @frba. Solo comprobá que accedas al formulario y esté tu nombre y apellido.\n",
    "\n",
    "* Chats de cada curso. Revisar el campus virtual de cada curso, si estás comenzando el ciclo lectivo, conectate, presentate y mandá el enlace a tu primer notebook en el chat, verás la consigna en el siguiente enlace. Por el contrario, si estás por rendir el final, podés consultar en el siguiente [chat](https://t.me/+O9IwV1qhRhA5NzJh) para consultar dudas. \n",
    "\n",
    "Otras cuestiones que podrás ir resolviendo la primera clase tiene que ver con el software necesario para la cursada:\n",
    "\n",
    "* [Preparación del entorno de trabajo en Ubuntu](preparacion.ipynb)\n",
    "\n",
    "Una vez que tengas todo resuelto, **no pierdas de vista** la consigna que tenés al final de la *preparación del entorno*. Podés dar los primeros pasos y reportando en el chat tu progreso. **Cualquier problema te ayudaremos**. \n"
   ]
  },
  {
   "cell_type": "markdown",
   "metadata": {},
   "source": [
    "## Notebooks de ejemplo para arrancar. Simulación Numérica\n",
    "\n",
    "Lo primero es que te familiarices con las herramientas de confección de informes y el ecosistema Python. Para ello se presentan los siguientes notebooks. Podés apropiarte de ellos y comenzar a hacer tus primeras prácticas:\n",
    "\n",
    " * [tu primer notebook](tu_primer_notebook.ipynb)\n",
    " \n",
    "\n",
    " * [tu segundo notebook](tu_segundo_notebook.ipynb)\n",
    "\n",
    "\n",
    "En los siguientes notebooks se encuentran ejemplos de la asignatura un tanto más avanzados, y que en la mayoría, utilizan la librería **[PyTC2](https://pytc2.readthedocs.io/en/latest/)** como apoyatura didáctica. Lo primero será familiarizarse con la simulación numérica, es decir con Python y sus módulos. \n",
    "&nbsp; \n",
    "\n",
    "\n",
    " * [Función pasabajos de segundo orden](funcion_transferencia_pasabajo_SOS.ipynb)\n",
    "\n",
    "\n",
    " * [Filtro pasabajos pasivo de segundo orden](filtro_pasivo_sos.ipynb)"
   ]
  },
  {
   "cell_type": "markdown",
   "metadata": {},
   "source": [
    "## Simulación Simbólica\n",
    "\n",
    "Luego agregaremos otra instancia de simulación que será la **simbólica**. Si bien se pretende que las y los estudiantes obtengan las funciones de excitación, transferencia y desarrollen toda cuestión algebraica en *lápiz y papel*, no es menos cierto que los ejercicios requieren altos niveles de concentración y es habitual cometer errores algebraicos. Dichos errores por lo general invalidan gran parte de los desarrollos a menos que los estudiantes desarrollen habilidades para detectarlos. Un entrenamiento eficaz demanda por un lado mucho entrenamiento, y por otro herramientas de corrección y validación adecuadas. Por este motivo, aprovecharemos el módulo de simulación simbólica [SymPy](https://docs.sympy.org/latest/index.html) para automatizar la resolución de sistemas de ecuaciones y todo tipo de manejo algebraico de expresiones. Se demuestra su uso en los siguientes ejemplos \n",
    "\n",
    " * [Análisis simbólico de la transferencia en la topología Sallen-Key](Sallen-Key&#32;analisis&#32;simbolico.ipynb)\n",
    " "
   ]
  },
  {
   "cell_type": "markdown",
   "metadata": {},
   "source": [
    "## Simulación Circuital\n",
    " \n",
    "La última instancia de simulación será la **circuital**, y se lleva a cabo mediante [*LTspice*](https://www.analog.com/en/design-center/design-tools-and-calculators/ltspice-simulator.html). En este simulador se realizará una simulación numérica a partir del motor de cálculo SPICE y los modelos de componentes que se incluyen.  Si la simulación numérica y circuital son consistentes, se puede proceder a la construcción de un prototipo físico del circuito. En caso de no estar práctico, se puede comenzar con el siguiente [tutorial](https://www.youtube.com/watch?v=CPa08LmitxM) elaborado por Israel Pavelek, docente de la Cátedra. Luego, continuando con el análisis de la sensibilidad para la topología Sallen-Key, se propone un análisis de Montecarlo para cuantificar la variabilidad de los parámetros del filtro\n",
    "\n",
    "\n",
    " * [Simulación circuital de Montecarlo para la topología Sallen-Key](Sallen-Key&#32;montecarlo&#32;LTspice.ipynb)"
   ]
  },
  {
   "cell_type": "markdown",
   "metadata": {},
   "source": [
    "En el ejemplo anterior, se proponen algunas funciones relativamente avanzadas del uso del [*LTspice*](https://www.analog.com/en/design-center/design-tools-and-calculators/ltspice-simulator.html), como la parametrización de la simulación, el análisis de montecarlo y las mediciones automáticas de la respuesta en frecuencia de módulo y fase. Luego de correr la simulación, se analizan estadísticamente los resultados mediante el módulo [Pandas](https://pandas.pydata.org/) de Python. En el siguiente documento se incorporan **todos** los pasos de la simulación computacional antes descriptos\n",
    "\n",
    " 1. Simbólica ([SymPy](https://docs.sympy.org/latest/index.html))\n",
    " 2. Numérica ([NumPy](https://numpy.org/) - [SciPy](https://scipy.org/))\n",
    " 3. Circuital ([*LTspice*](https://www.analog.com/en/design-center/design-tools-and-calculators/ltspice-simulator.html))\n",
    " \n",
    "junto a la simulación numérica en Python (punto 2), y sus respectivas comparativas\n",
    "\n",
    " * [Análisis de un filtro pasabajo activo Sallen-Key](Sallen-Key&#32;sensibilidad.ipynb)"
   ]
  },
  {
   "cell_type": "markdown",
   "metadata": {},
   "source": [
    "## Para finalizar\n",
    "\n",
    "En los siguientes ejemplos se muestran más notebooks que coomplementan lo presentado hasta el momento respecto a  simulación computacional.\n",
    "\n",
    "\n",
    " * [Comparativa de funciones de aproximación](https://pytc2.readthedocs.io/en/stable/ejnb_ComparativaOrdenes.html)\n",
    "\n",
    " \n",
    " * [Núcleo de transformación pasabanda](https://pytc2.readthedocs.io/en/stable/ejnb_transformacion_pasabanda.html)\n",
    " \n",
    "\n",
    " * [Factorización y ordenamiento de SOS](https://pytc2.readthedocs.io/en/stable/ejnb_secciones_SOS.html)\n",
    "\n",
    "\n",
    " * [aún más...](https://pytc2.readthedocs.io/en/stable/principal.html#analisis-y-sintesis-de-redes-pasivas-y-activas)"
   ]
  }
 ],
 "metadata": {
  "kernelspec": {
   "display_name": "Python 3 (ipykernel)",
   "language": "python",
   "name": "python3"
  },
  "language_info": {
   "codemirror_mode": {
    "name": "ipython",
    "version": 3
   },
   "file_extension": ".py",
   "mimetype": "text/x-python",
   "name": "python",
   "nbconvert_exporter": "python",
   "pygments_lexer": "ipython3",
   "version": "3.10.12"
  }
 },
 "nbformat": 4,
 "nbformat_minor": 4
}
