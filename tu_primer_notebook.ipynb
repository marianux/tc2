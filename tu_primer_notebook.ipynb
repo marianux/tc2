{
 "cells": [
  {
   "cell_type": "markdown",
   "metadata": {},
   "source": [
    "<img src=\"./logo_UTN.svg\" align=\"right\" width=\"150\" /> \n",
    "\n",
    "#### Teoría de Circuitos II\n",
    "\n",
    "# Podés usar este notebook como ejemplo: El título lo escribís acá\n",
    "#### Autor: *un futuro ingeniero electrónico*\n"
   ]
  },
  {
   "cell_type": "markdown",
   "metadata": {},
   "source": [
    "### Introducción\n",
    "\n",
    "Jupyter Notebook es una herramienta para la confección de reportes técnicos, dado que permite la interacción en el mismo ambiente de: \n",
    "\n",
    "1. un procesador de texto elemental (formato Markdown) que permite resaltar texto, en forma de *itálica* o **negrita** de manera muy legible. Esto quiere decir que para poner algo en itálica, tenés que poner la palabra \\* *entre asteriscos* \\*. Si hacés doble click sobre el texto, verás el código fuente de esto que estás leyendo. Una palabra en \\*\\* **negrita** \\*\\* la tenés que poner entre asteriscos dobles. Te sugiero que revises todas las celdas de texto de este documento, especialmente la celda de cabecera. Luego para que se vuelva a interpretar podés tocar CTRL+ENTER, y se volverá a ver de forma más agradable. \n",
    "\n",
    "Yendo a lo concreto, tendrás que escribir en un lenguaje que se llama **Markdown**, y que no tiene muchas novedades, salvo que es *interpretado*. \n",
    "\n",
    "Luego verás que el código es muy legible, a pesar de no haber sido interpretado. \n",
    "\n",
    "\n",
    "Cuenta con estilos predefinidos:\n",
    "\n",
    "# Título 1\n",
    "## Título 2\n",
    "### Título 3\n",
    "\n",
    "y también la capacidad de incluir enlaces a otras páginas, como por ejemplo [esta página](https://medium.com/ibm-data-science-experience/markdown-for-jupyter-notebooks-cheatsheet-386c05aeebed) donde encontrarás más funcionalidades del lenguaje **Markdown**. Otra capacidad que tienen los notebooks es la de **incrustar PDFs**, donde por ejemplo podrías incorporar las soluciones de lápiz y papel que se te pidan. Más abajo encontrarás un ejemplo de esto.\n",
    "\n",
    "2. capacidad para incluir lenguaje matemático estilo LaTex, tanto de forma presentada\n",
    "\n",
    "\\begin{equation}\n",
    "H(s) = \\frac{\\omega_0^2}{s^2+s\\frac{\\omega_0}{Q}+\\omega_0^2}.\n",
    "\\end{equation}\n",
    "\n",
    "como *inline* en el propio párrafo $y[k] = \\frac{1}{a_0} \\left( \\sum_{m=0}^{M} b_m \\; x[k-m] - \\sum_{n=1}^{N} a_n \\; y[k-n] \\right) $\n",
    "\n",
    "3. La posibilidad de incluir scripts en Python, como los que usaremos para las simulaciones en los TPs de la materia. En este caso usaremos el *demo_seg_orden1.py* como ejemplo. Una vez que lo probamos y estamos seguros que funciona de forma esperada en *Spyder*, podemos incluir los resultados de la simulación de manera casi transparente. Solo tenemos que agregar una celda de código donde incluimos el código, y los resultados directamente quedan incluidos en este documento.\n",
    "\n",
    "\n",
    "Espero que a esta altura valores comenzar a usar estos *notebooks*. Estoy seguro que será una herramienta que adoptarás y muy posiblemente no vuelvas a usar un editor de texto (salvo que te veas obligado).\n",
    "\n",
    "\n",
    "Te invito a que revises el código fuente de este documento que encontrarás los típicos ejemplos que necesitarás para la presentación de tareas y trabajos. Fijate la celda cabecera de este documento y verás cómo se pueden incrustar imágenes.\n",
    "\n"
   ]
  },
  {
   "cell_type": "markdown",
   "metadata": {},
   "source": [
    "Podés incorporar tantas *celdas* como necesites. Las celdas pueden contenter *Markdon* o directamente código fuente de *Python*.\n",
    "\n",
    "La siguiente celda es una celda de texto que incorpora diferentes tipos de lenguaje matemático. Esas ecuaciones se formatean usando un lenguaje llamado $\\LaTeX$. De hecho, poner texto entre el *signo pesos (\\\\$)* le indica a Markdown que use el intérprete $\\LaTeX$ en dicha parte del texto $\\to$ \\\\$ esto_se_interpreta_como_un_comando_LaTeX \\\\$"
   ]
  },
  {
   "cell_type": "markdown",
   "metadata": {},
   "source": [
    "### Un ejemplo para mostrarte lo que podrías hacer\n",
    "\n",
    "Entendemos como sección de segundo orden [...] de orden arbitrario.\n",
    "\n",
    "Para el caso concreto de un filtro  [...] nos permitió obtener una función $H(s)$ en función de dos parámetros $\\omega_0$ y $Q$. La siguiente ecuación se llama *presentada*)\n",
    "\n",
    "\\begin{equation}\n",
    "H(s) = \\frac{\\omega_0^2}{s^2+s\\frac{\\omega_0}{Q}+\\omega_0^2}.\n",
    "\\end{equation}\n",
    "\n",
    " Luego adoptando como norma de frecuencia $\\omega_0$, obtenemos la versión normalizada en frecuencia\n",
    "\n",
    "\\begin{equation}\n",
    "H(s) = \\frac{1}{s^2+s\\frac{1}{Q}+1}\n",
    "\\end{equation}\n",
    "\n",
    "quedando como único parámetro $Q$. En la siguiente simulación se ejemplifica cómo simular una SOS, obteniendo la respuesta en frecuencia y un diagrama de polos y ceros. En éste párrafo incluimos ecuaciones *inline*, o en el propio párrafo con tan solo encerrar con el signo \\\\$  los comandos de $\\LaTeX$ $y[k] = \\frac{1}{a_0} \\left( \\sum_{m=0}^{M} b_m \\; x[k-m] - \\sum_{n=1}^{N} a_n \\; y[k-n] \\right) $\n",
    "\n",
    "\n"
   ]
  },
  {
   "cell_type": "markdown",
   "metadata": {},
   "source": [
    "La siguiente celda será de Código, fijate que cuando accedas al fuente, verás que donde decía *Markdown*, ahora dice *Code* (fijate en la barra de herramientas un menú desplegable)."
   ]
  },
  {
   "cell_type": "code",
   "execution_count": 1,
   "metadata": {},
   "outputs": [],
   "source": [
    "# Módulos para Python, algo parecido a los #include de C\n",
    "\n",
    "# módulos numéricos y de funciones científicas\n",
    "import numpy as np\n",
    "from scipy import signal as sig\n",
    "\n",
    "# PyTC2: La librería para TC2\n",
    "from pytc2.sistemas_lineales import bodePlot, pzmap, GroupDelay, analyze_sys"
   ]
  },
  {
   "cell_type": "code",
   "execution_count": 2,
   "metadata": {},
   "outputs": [],
   "source": [
    "\n",
    "import matplotlib as mpl\n",
    "from matplotlib import pyplot as plt\n",
    "#%%  Inicialización de librerías\n",
    "# Setup inline graphics: Esto lo hacemos para que el tamaño de la salida, \n",
    "# sea un poco más adecuada al tamaño del documento\n",
    "\n",
    "plt.figure(1)\n",
    "plt.close(1)\n",
    "\n",
    "#%% Esto tiene que ver con cuestiones de presentación de los gráficos,\n",
    "# Podés modificar el ancho y alto de los gráficos que generás\n",
    "fig_sz_x = 13\n",
    "fig_sz_y = 7\n",
    "fig_dpi = 80 # dpi\n",
    "fig_font_size = 16\n",
    "\n",
    "plt.rcParams.update({'font.size':fig_font_size})\n",
    "\n",
    "# módulos numéricos y de funciones científicas\n",
    "import numpy as np\n",
    "from scipy import signal as sig\n",
    "\n",
    "# Ahora importamos las funciones de PyTC2\n",
    "from pytc2.sistemas_lineales import bodePlot, pzmap, GroupDelay, analyze_sys\n",
    "\n",
    "from pytc2.general import print_subtitle\n"
   ]
  },
  {
   "cell_type": "markdown",
   "metadata": {},
   "source": [
    "Ahora podés volver a intercalar texto libremente, por ejemplo para explicar que el bloque anterior se encarga de cargar funciones y módulos y que lo podés hacer **solamente una vez al principio, o donde lo necesites**. A partir de acá podés intercalar tu código o tantas celdas de texto como necesites. Por ejemplo, comenzaremos con un manuscrito escaneado, donde por ejemplo, podrías incluir la resolución de un problema que se te pida en clase:"
   ]
  },
  {
   "cell_type": "code",
   "execution_count": 3,
   "metadata": {},
   "outputs": [
    {
     "data": {
      "text/html": [
       "\n",
       "        <iframe\n",
       "            width=\"1000\"\n",
       "            height=\"1000\"\n",
       "            src=\"./sos_pb_lapiz.pdf\"\n",
       "            frameborder=\"0\"\n",
       "            allowfullscreen\n",
       "            \n",
       "        ></iframe>\n",
       "        "
      ],
      "text/plain": [
       "<IPython.lib.display.IFrame at 0x7f47d8433280>"
      ]
     },
     "execution_count": 3,
     "metadata": {},
     "output_type": "execute_result"
    }
   ],
   "source": [
    "from IPython.display import IFrame\n",
    "IFrame(\"./sos_pb_lapiz.pdf\", width=1000, height=1000)\n"
   ]
  },
  {
   "cell_type": "markdown",
   "metadata": {},
   "source": [
    "A partir de este punto podés incluir las simulaciones en Python y LTspice, en ese orden."
   ]
  },
  {
   "cell_type": "code",
   "execution_count": 4,
   "metadata": {},
   "outputs": [
    {
     "data": {
      "image/png": "[encoded data removed]",
      "text/plain": [
       "<Figure size 432x288 with 2 Axes>"
      ]
     },
     "metadata": {
      "needs_background": "light"
     },
     "output_type": "display_data"
    },
    {
     "data": {
      "image/png": "[encoded data removed]",
      "text/plain": [
       "<Figure size 432x288 with 1 Axes>"
      ]
     },
     "metadata": {
      "needs_background": "light"
     },
     "output_type": "display_data"
    }
   ],
   "source": [
    "     \n",
    "# Definimos los parámetros de la simulación\n",
    "\n",
    "# Probar diferentes valores de Q\n",
    "#################################\n",
    "\n",
    "#Q = 1/3           # sobreamortiguado\n",
    "#Q = 1/2  # amortiguamiento crítico  (son definiciones de T. de control)\n",
    "Q = np.sqrt(2)/2             # subamortiguado\n",
    "\n",
    "# Luego de analizar diferentes Q, probar desnormalizar\n",
    "######################################################\n",
    "w0 = 1\n",
    "\n",
    "# Cargamos la funcion transferencia como vectores de sus coeficientes.\n",
    "\n",
    "num = np.array([ w0**2 ])\n",
    "den = np.array([ 1., w0 / Q, w0**2 ])\n",
    "\n",
    "H1 = sig.TransferFunction( num, den )\n",
    "\n",
    "# Graficamos el diagrama de polos y ceros\n",
    "# Graficamos la respuesta en frecuencia para el modulo y la fase.\n",
    "\n",
    "_, axes_hdl = bodePlot(H1)\n",
    "\n",
    "# para que se vea como uno intuye el módulo. Probar comentar las siguientes 2 líneas\n",
    "plt.sca(axes_hdl[0])\n",
    "#plt.ylim([-1,1])\n",
    "\n",
    "plt.gca\n",
    "\n",
    "pzmap(H1)\n",
    "\n",
    "plt.show()\n"
   ]
  },
  {
   "cell_type": "markdown",
   "metadata": {},
   "source": [
    "Fijate que el código de más arriba genera resultados y los muestra incorporados a éste documento. Por supuesto que tiene la posibilidad de recalcular dichos resultados, re-interpretarlos y regenerar las mismas figuras para otros valores de parámetros, sin hacer ni un solo copy paste. **Esa es una de las grandes ventajas de éstos notebooks**."
   ]
  },
  {
   "cell_type": "markdown",
   "metadata": {},
   "source": [
    "y listo ... el resto lo irás aprendiendo durante el año ... Ah! **una última cosa importante**, estos documentos los podés ver muy bien desde cualquier parte, un celu, una compu, etc. Y obviamente compartirlos con quien vos quieras, en tu CV, a un compañero, o a las y los profes. Solo tenés que compartir el enlace *proyectado* via [nbviewer](https://nbviewer.org). Esto es tan sencillo como copiar y pegar la dirección de [tu notebook](https://github.com/marianux/tc2/blob/main/tu_primer_notebook.ipynb) en Github (ojo! en tu repo personal, este es el enlace a este mismo documento en el mío) en el proyector (o renderizador) de [nbviewer](https://nbviewer.org). El link que resulta luego de tocar el botón es el que podés compartir, y que para este mismo documento te lo dejo a continuación para que compares como lo renderiza [Github](https://github.com/marianux/tc2/blob/main/tu_primer_notebook.ipynb) y [nbviewer](https://nbviewer.org/github/marianux/tc2/blob/main/tu_primer_notebook.ipynb). Yo prefiero siempre los de **nbviewer**, aunque podés mandarme **el que te guste a vos**.\n",
    "\n",
    "Si te quedaste con ganas de aprender más:\n",
    "\n",
    "* [sobre Markdown y LaTeX](https://ashki23.github.io/markdown-latex.html)\n",
    "\n",
    "* [sobre Jupyter notebooks](https://jupyter.org/try)\n",
    "\n",
    "* [Si ya usaste Matlab ...](https://numpy.org/doc/stable/user/numpy-for-matlab-users.html)\n",
    "\n",
    "* Podés continuar con  [tu segundo notebook](tu_segundo_notebook.ipynb)\n"
   ]
  }
 ],
 "metadata": {
  "kernelspec": {
   "display_name": "Python 3 (ipykernel)",
   "language": "python",
   "name": "python3"
  },
  "language_info": {
   "codemirror_mode": {
    "name": "ipython",
    "version": 3
   },
   "file_extension": ".py",
   "mimetype": "text/x-python",
   "name": "python",
   "nbconvert_exporter": "python",
   "pygments_lexer": "ipython3",
   "version": "3.10.6"
  }
 },
 "nbformat": 4,
 "nbformat_minor": 2
}
