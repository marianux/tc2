{
 "cells": [
  {
   "cell_type": "markdown",
   "metadata": {},
   "source": [
    "# Teoría de los Circuitos 2   <img src=\"./logo_UTN.svg\" align=\"right\" width=\"150\" /> \n",
    "\n",
    "Mariano Llamedo Soria. Profesor Titular de TC2. UTN-BA.\n"
   ]
  },
  {
   "cell_type": "markdown",
   "metadata": {},
   "source": [
    "## Cuestiones administrativas\n",
    "\n",
    "#### Bienvenida\n",
    "\n",
    "Bienvenidxs al curso de Teoría de Circuitos 2. Esta materia se encuentra en el grupo de las Asignaturas Básicas de la Especialidad y es la última del área de *Teoría de los Circuitos*, según la ordenanza del Consejo Superior 1849/22. Dicho ordenamiento anticipa que se trata de una asignatura que proporcionará conocimientos y competencias básicas de la ingeniería electrónica, pero también integrará y aplicará también los conocimientos de las materias del área y los niveles anteriores. En efecto, se trata de una asignatura fundamental para el análisis y síntesis (diseño) de circuitos eléctricos, tanto en tiempo continuo como en tiempo discreto. A lo largo del curso, se profundizará en cada uno de éstos dominios trabajando en el filtrado de señales, la adaptación e implementación de circuitos y sistemas digitales.\n",
    "\n",
    "Se trata de una asignatura obligatoria del cuarto nivel que contribuye en los siguientes aspectos formativos de la ingeniería electrónica, según la misma ordenanza:\n",
    "\n",
    "Planteo, interpretación, modelado, implementación, resolución, análisis y síntesis de circuitos y sistemas electrónicos.\n",
    "Diseño, proyecto y cálculo de circuitos y sistemas digitales.\n",
    "\n",
    "Las clases generalmente tendrán una introducción teórica, seguido por alguna ejercitación que facilite la comprensión de los temas, y que habitualmente serán tareas semanales o ejercicios especialmente escogidos. Los aspectos prácticos pretenden ser un aspecto distintivo del curso, intentando dar a los estudiantes herramientas prácticas para sus proyectos, sin renunciar a profundizar en aspectos teóricos que ayuden a la comprensión de los temas. Por lo general las demostraciones teóricas se dejan como referencias a la bibliografía para los estudiantes más interesados.\n",
    "\n",
    "#### Bibliografía\n",
    "\n",
    "[La bibliografía](https://drive.google.com/drive/u/1/folders/1Bd87h5CEfY2NmMum0U-n74j2_2Tj3y1n) está disponible en formato digital, y en formato físico en la [Biblioteca de la Facultad](https://biblioteca.frba.utn.edu.ar) de forma limitada.\n",
    "\n",
    "Filtrado activo y Teoría de la Aproximación:\n",
    "* Schaumann, Van Valkenburg. (2008) Design of Analog Filters. Oxford University Press. ISBN-13  978-0195699296\n",
    "* Cogollos Borrás, S. (2016) Fundamentos de la teoría de filtros. Universitat Politècnica de València.\n",
    "* Siddiqi, M. (2020). Continuous Time Active Analog Filters. Cambridge University Press.\n",
    "\n",
    "Sistemas muestreados y filtros digitales:\n",
    "* Lyons, R. Understanding Digital Signal Processing. Prentice Hall.\n",
    "* Holton, T. (2021). Digital Signal Processing Principles and Applications. Cambridge University Press.\n",
    "* Mitra, Sanjit (2006) – Procesamiento digital de señales: Un enfoque basado en computadoras.\n",
    "\n",
    "Filtros analógicos:\n",
    "* Kuo, F. (1966) Network Analysis and Synthesis. John Wiley & Sons.\n",
    "* Balabanian, N. (1969) Electrical Network Theory. Wiley.\n",
    "* Araujo, A. (1987) Análisis y Síntesis de Funciones de Red (Tomos I y II). Editorial GYVE. ISBN 978-987-43-4583-7\n",
    "* Karakash, J. (1950) Transmission Lines and Filter Networks. \n",
    "* Everitt, Anner. (1948) Ingeniería en Comunicaciones. ARBO.\n",
    "\n",
    "\n",
    "#### Herramientas de simulación\n",
    "\n",
    "Las herramientas informáticas utilizadas en la asignatura pretenden ser de acceso libre y código abierto, siempre que fuera posible, acorde al carácter público de la UTN. Sin embargo, se aceptan (👎**aunque no se aconsejan**👎) trabajos en software privativo del estilo Matlab, MS Officce, etc. Se hará importante énfasis en la simulación numérica, simbólica y circuital, para lo que contamos con los siguientes programas:\n",
    "\n",
    "* [Python](https://www.python.org/downloads/) como lenguaje y sus módulos para:\n",
    "    - Formatos numéricos y manejo de matrices y tipos de datos: [NumPy](https://numpy.org/install/)\n",
    "    - Simulación simbólica: [SymPy](https://www.sympy.org)\n",
    "    - Sistemas en tiempo continuo y discreto: [SciPy Signal](https://www.scipy.org/install.html)\n",
    "    - Visualización: [Matplotlib Pyplot](https://matplotlib.org/stable/users/installing.html)\n",
    "\n",
    "* El ambiente de desarrollo (IDE) [Spyder](https://www.spyder-ide.org/)\n",
    "* [Jupyter Notebook](https://jupyter.org/install) (NB) ó LaTex para la presentación de tareas e informes.\n",
    "* [NBviewer](https://nbviewer.jupyter.org/) como presentador o proyector de NB.\n",
    "* El simulador circuital más utilizado [LTspice](https://www.analog.com/en/design-center/design-tools-and-calculators/ltspice-simulator.html)\n",
    "\n",
    "\n",
    "#### Aprobación\n",
    "\n",
    "La cursada se aprueba mediante la presentación de trabajos prácticos y la aprobación un exámen de conocimientos teórico/prácticos. Los detalles de aprobación y promoción los daremos en clase, ya que suelen actualizarse frecuentemente.\n"
   ]
  }
 ],
 "metadata": {
  "kernelspec": {
   "display_name": "Python 3 (ipykernel)",
   "language": "python",
   "name": "python3"
  },
  "language_info": {
   "codemirror_mode": {
    "name": "ipython",
    "version": 3
   },
   "file_extension": ".py",
   "mimetype": "text/x-python",
   "name": "python",
   "nbconvert_exporter": "python",
   "pygments_lexer": "ipython3",
   "version": "3.10.12"
  }
 },
 "nbformat": 4,
 "nbformat_minor": 4
}
